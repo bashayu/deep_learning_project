{
 "cells": [
  {
   "cell_type": "markdown",
   "metadata": {},
   "source": [
    "Hi，今天我们来一个新的project，这次用的数据集是一个猴痘病的图像识别任务。"
   ]
  },
  {
   "cell_type": "code",
   "execution_count": 1,
   "metadata": {},
   "outputs": [
    {
     "data": {
      "text/plain": [
       "device(type='cpu')"
      ]
     },
     "execution_count": 1,
     "metadata": {},
     "output_type": "execute_result"
    }
   ],
   "source": [
    "import torch\n",
    "import torch.nn as nn\n",
    "import torchvision.transforms as transforms\n",
    "import torchvision\n",
    "from torchvision import transforms, datasets\n",
    "\n",
    "import os,PIL,pathlib\n",
    "\n",
    "device = torch.device(\"cuda\" if torch.cuda.is_available() else \"cpu\")\n",
    "\n",
    "device"
   ]
  },
  {
   "cell_type": "markdown",
   "metadata": {},
   "source": [
    "#### pathlib.Path\n",
    "这里有一个我们不太常用的函数是**pathlib.Path(path)**，我们可以将我们的path给到pathlib.Path中，然后就可以用pathlib.Path函数的一些操作快捷操作path及path的子路径。\n",
    "\n",
    "像 **pathlib.Path(data_dir).glob(\"\\*\")** 这个是非递归匹配data_dir下的所有文件及文件夹，而像 **pathlib.Path(data_dir).rglob(\"\\*\")** 这个是递归式的匹配data_dir下所有的文件及文件夹。"
   ]
  },
  {
   "cell_type": "code",
   "execution_count": 2,
   "metadata": {},
   "outputs": [
    {
     "data": {
      "text/plain": [
       "['Monkeypox', 'Others']"
      ]
     },
     "execution_count": 2,
     "metadata": {},
     "output_type": "execute_result"
    }
   ],
   "source": [
    "import os,PIL,random,pathlib\n",
    "\n",
    "data_dir = './4-data/'\n",
    "data_dir = pathlib.Path(data_dir)\n",
    "\n",
    "data_paths = list(data_dir.glob('*'))\n",
    "#这里用list后会得到[WindowsPath('4-data/Monkeypox'), WindowsPath('4-data/Others')]\n",
    "classNames = [str(path).split(\"\\\\\")[1] for path in data_paths]\n",
    "#这里的for path in data_paths会提取每一个list[i]，\n",
    "#这里用了str(path).split(\"\\\\\")[1]，会得到['Monkeypox', 'Others']\n",
    "classNames"
   ]
  },
  {
   "cell_type": "markdown",
   "metadata": {},
   "source": [
    "#### note\n",
    "这里可能很多人都会觉得，不知道该怎么一步步把classNames提取出来，其实我觉得99.99999%的人一开始都不知道，一开始我们能走到的都是data_paths那一层，也是从这一层慢慢往下走才知道，噢！还要再str等往下拆几步。初学者切忌再数据处理上纠结太多。"
   ]
  },
  {
   "cell_type": "markdown",
   "metadata": {},
   "source": [
    "#### transforms.Compose\n",
    "当我们拿到一些图片数据的时候，这些数据往往是什么形状都有且尚未处于tenosr类型，因此我们需要用transforms.Compose来对图像做预处理。\n",
    "\n",
    "1、**transforms.Resize([224, 224])** ：是将所有的图像大小改为244*244个像素点；\n",
    "\n",
    "2、**transforms.ToTensor()** ：是将PIL Image或numpy.ndarray转换为tensor，并且会将像素值归一化到(0,1)；\n",
    "\n",
    "3、**transforms.Normalize()** ：给定一个mean&std值，求tensor数据的标准正态分布，使模型更容易收敛。"
   ]
  },
  {
   "cell_type": "markdown",
   "metadata": {},
   "source": [
    "#### datasets.ImageFolder\n",
    "因为今天我们做的是分类任务，因此我们的目录结构肯定是root/A_folder/xxx.jpg以及root/B_folder/xxx.jpg，如果是二分类就到此为止，如果是三分类就继续往下有C_folder。因此我们datasets.ImageFolder的核心作用是：\n",
    "\n",
    "1、 **加载数据集** ： 每个文件夹代表一个类别，它将使用文件夹的名称作为类别的标签，并加载文件夹中的所有图像。\n",
    "\n",
    "2、 **图像转换** ：我们可以在ImageFolder中调用我们创建好的transforms.Compose()，以此来构建处理好的数据集。\n"
   ]
  },
  {
   "cell_type": "code",
   "execution_count": 3,
   "metadata": {},
   "outputs": [
    {
     "data": {
      "text/plain": [
       "Dataset ImageFolder\n",
       "    Number of datapoints: 2142\n",
       "    Root location: ./4-data/\n",
       "    StandardTransform\n",
       "Transform: Compose(\n",
       "               Resize(size=[224, 224], interpolation=bilinear, max_size=None, antialias=None)\n",
       "               ToTensor()\n",
       "               Normalize(mean=[0.485, 0.456, 0.406], std=[0.229, 0.224, 0.225])\n",
       "           )"
      ]
     },
     "execution_count": 3,
     "metadata": {},
     "output_type": "execute_result"
    }
   ],
   "source": [
    "total_datadir = './4-data/'\n",
    "\n",
    "# 关于transforms.Compose的更多介绍可以参考：https://blog.csdn.net/qq_38251616/article/details/124878863\n",
    "train_transforms = transforms.Compose([\n",
    "    transforms.Resize([224, 224]),  # 将输入图片resize成统一尺寸\n",
    "    transforms.ToTensor(),          # 将PIL Image或numpy.ndarray转换为tensor，并归一化到[0,1]之间\n",
    "    transforms.Normalize(           # 标准化处理-->转换为标准正太分布（高斯分布），使模型更容易收敛\n",
    "        mean=[0.485, 0.456, 0.406], \n",
    "        std=[0.229, 0.224, 0.225])  # 其中 mean=[0.485,0.456,0.406]与std=[0.229,0.224,0.225] 从数据集中随机抽样计算得到的。\n",
    "])\n",
    "\n",
    "total_data = datasets.ImageFolder(root=total_datadir,transform=train_transforms)\n",
    "total_data"
   ]
  },
  {
   "cell_type": "code",
   "execution_count": 4,
   "metadata": {},
   "outputs": [
    {
     "data": {
      "text/plain": [
       "{'Monkeypox': 0, 'Others': 1}"
      ]
     },
     "execution_count": 4,
     "metadata": {},
     "output_type": "execute_result"
    }
   ],
   "source": [
    "total_data.class_to_idx"
   ]
  },
  {
   "cell_type": "markdown",
   "metadata": {},
   "source": [
    "#### torch.utils.data.random_split\n",
    "当我们处理好上面的数据集之后，我们需要分割数据，比如将数据分割成训练集（70%）、验证集（15%）、测试集（15%）或者训练集（80%）和验证集（20%）。我们使用的函数就是 **torch.utils.data.random_split** 。如果现在要拆分成训练集、验证集以及测试集的话只需要在等号右边放三个变量以及在random_split函数分割数据大小里面由两个数据量改成三个数据量。"
   ]
  },
  {
   "cell_type": "code",
   "execution_count": 4,
   "metadata": {},
   "outputs": [
    {
     "data": {
      "text/plain": [
       "(<torch.utils.data.dataset.Subset at 0x2409ca2d2e0>,\n",
       " <torch.utils.data.dataset.Subset at 0x2409ca2dca0>)"
      ]
     },
     "execution_count": 4,
     "metadata": {},
     "output_type": "execute_result"
    }
   ],
   "source": [
    "train_size = int(0.8 * len(total_data))\n",
    "test_size  = len(total_data) - train_size\n",
    "train_dataset, test_dataset = torch.utils.data.random_split(total_data, [train_size, test_size])\n",
    "train_dataset, test_dataset"
   ]
  },
  {
   "cell_type": "code",
   "execution_count": 6,
   "metadata": {},
   "outputs": [
    {
     "data": {
      "text/plain": [
       "(1713, 429)"
      ]
     },
     "execution_count": 6,
     "metadata": {},
     "output_type": "execute_result"
    }
   ],
   "source": [
    "train_size,test_size"
   ]
  },
  {
   "cell_type": "markdown",
   "metadata": {},
   "source": [
    "#### torch.utils.data.DataLoader\n",
    "我们刚才通过 **train_transforms** 做了每一个数据的预处理，用了 **torch.utils.data.random_split** 分割了数据集。现在我们要用 **torch.utils.data.DataLoader** 去对数据进行批量处理。\n",
    "\n",
    "**torch.utils.data.DataLoader** 这个函数比较常用的参数就是dataset、batch_size、shuffle、num_workers以及drop_last，这里没有写drop_last，default false。\n",
    "\n",
    "当我们用torch.utils.data.DataLoader处理完数据后，其实是将input图像处理成了[batch_size,channel,height,width]。"
   ]
  },
  {
   "cell_type": "markdown",
   "metadata": {},
   "source": [
    "#### note\n",
    "对于tensor、numpy数据，都可以用.shape/.dtype去看数据维度以及数据类型。"
   ]
  },
  {
   "cell_type": "code",
   "execution_count": 5,
   "metadata": {},
   "outputs": [
    {
     "name": "stdout",
     "output_type": "stream",
     "text": [
      "Shape of X [N, C, H, W]:  torch.Size([32, 3, 224, 224])\n",
      "Shape of y:  torch.Size([32]) torch.int64\n"
     ]
    }
   ],
   "source": [
    "batch_size = 32\n",
    "\n",
    "train_dl = torch.utils.data.DataLoader(train_dataset,\n",
    "                                           batch_size=batch_size,\n",
    "                                           shuffle=True,\n",
    "                                           num_workers=1)\n",
    "test_dl = torch.utils.data.DataLoader(test_dataset,\n",
    "                                          batch_size=batch_size,\n",
    "                                          shuffle=True,\n",
    "                                          num_workers=1)\n",
    "for X, y in test_dl:\n",
    "    print(\"Shape of X [N, C, H, W]: \", X.shape)\n",
    "    print(\"Shape of y: \", y.shape, y.dtype)\n",
    "    break"
   ]
  },
  {
   "cell_type": "markdown",
   "metadata": {},
   "source": [
    "#### nn.Conv2d\n",
    "这是一个卷积函数，用于处理图像数据，从图像中提取特征。其常用参数有：\n",
    "\n",
    "1、 **in_channels** ：输入图像的通道数，例如，灰度图像为 1，RGB 图像为 3。\n",
    "\n",
    "2、 **out_channels** ：输出特征图的通道数，也是过滤器的数量。\n",
    "\n",
    "3、 **kernel_size** ：卷积核的大小。可以是整数或二元组来分别指定高度和宽度。\n",
    "\n",
    "4、 **stride** ：卷积核的步长，即每次卷积核滑动的像素数，默认为 1。\n",
    "\n",
    "5、 **padding** ：输入图像边缘的填充量，默认为 0。填充可以是字符串（如 'same' 来自动计算填充以保持输出大小不变）或整数。\n",
    "\n",
    "6、 **dilation** ：卷积核的扩张率，用于增加卷积核的覆盖范围，默认为 1。这个目前我们也没有用到，可以暂时不用管。\n"
   ]
  },
  {
   "cell_type": "markdown",
   "metadata": {},
   "source": [
    "#### nn.BatchNorm2d\n",
    "这个就是批量的进行数据归一化处理，用于提高训练速度、稳定性和网络的泛化能力。一般就是卷积后都要跟一个nn.BatchNorm2d，这个先记住就可以。\n",
    "\n",
    "常用的参数就是 **num_features** 输入数据的通道数。"
   ]
  },
  {
   "cell_type": "markdown",
   "metadata": {},
   "source": [
    "#### nn.MaxPool2d\n",
    "这个是一个二维最大池化层，举个例子来说其实就是当我们卷积池化完是一个(224,224)大小的图像的时候，我们可以利用nn.MaxPool2d池化来减小图像的大小，进而减小参数量。\n",
    "\n",
    "这个函数的常用的参数有如下几个：\n",
    "\n",
    "1、 **kernel_size** ：池化窗口的大小。可以是一个 **整数** ，或者 **一对整数，分别表示高度和宽度** 。\n",
    "\n",
    "2、 **stride** ：池化窗口的步长。如果不设置，它默认与 kernel_size 相同。步长为1意味着每次滑动一个像素。\n",
    "\n",
    "3、 **padding** ：输入特征图边缘的填充量。可以是单个数字或一对数字，分别表示垂直和水平填充。\n",
    "\n",
    "4、 **dilation** ：池化窗口的膨胀率，用于增加感受野。\n",
    "\n",
    "这里我们的nn.MaxPool2d(2,2)这里的两个2分别是kernel_size以及stride。"
   ]
  },
  {
   "cell_type": "markdown",
   "metadata": {},
   "source": [
    "#### note\n",
    "1、一般图像处理的路子都是cnn+batchnorm+relu，这都是必须。之后的pool其实是自己调节的可选。\n",
    "\n",
    "2、我们在跑代码的时候虽然input的是[batch_size,channel,height,weight]，但是在运行nn.xx这些函数的时候其实不需要在意batch的具体大小，只要在input某个nn.xx函数的时候其input dimension对应上了即可。"
   ]
  },
  {
   "cell_type": "code",
   "execution_count": 6,
   "metadata": {},
   "outputs": [
    {
     "name": "stdout",
     "output_type": "stream",
     "text": [
      "Using cpu device\n"
     ]
    },
    {
     "data": {
      "text/plain": [
       "Network_bn(\n",
       "  (conv1): Conv2d(3, 12, kernel_size=(5, 5), stride=(1, 1))\n",
       "  (bn1): BatchNorm2d(12, eps=1e-05, momentum=0.1, affine=True, track_running_stats=True)\n",
       "  (conv2): Conv2d(12, 12, kernel_size=(5, 5), stride=(1, 1))\n",
       "  (bn2): BatchNorm2d(12, eps=1e-05, momentum=0.1, affine=True, track_running_stats=True)\n",
       "  (pool): MaxPool2d(kernel_size=2, stride=2, padding=0, dilation=1, ceil_mode=False)\n",
       "  (conv4): Conv2d(12, 24, kernel_size=(5, 5), stride=(1, 1))\n",
       "  (bn4): BatchNorm2d(24, eps=1e-05, momentum=0.1, affine=True, track_running_stats=True)\n",
       "  (conv5): Conv2d(24, 24, kernel_size=(5, 5), stride=(1, 1))\n",
       "  (bn5): BatchNorm2d(24, eps=1e-05, momentum=0.1, affine=True, track_running_stats=True)\n",
       "  (fc1): Linear(in_features=60000, out_features=2, bias=True)\n",
       ")"
      ]
     },
     "execution_count": 6,
     "metadata": {},
     "output_type": "execute_result"
    }
   ],
   "source": [
    "import torch.nn.functional as F\n",
    "\n",
    "class Network_bn(nn.Module):\n",
    "    def __init__(self):\n",
    "        super(Network_bn, self).__init__()\n",
    "        \"\"\"\n",
    "        nn.Conv2d()函数：\n",
    "        第一个参数（in_channels）是输入的channel数量\n",
    "        第二个参数（out_channels）是输出的channel数量\n",
    "        第三个参数（kernel_size）是卷积核大小\n",
    "        第四个参数（stride）是步长，默认为1\n",
    "        第五个参数（padding）是填充大小，默认为0\n",
    "        \"\"\"\n",
    "        self.conv1 = nn.Conv2d(in_channels=3, out_channels=12, kernel_size=5, stride=1, padding=0)\n",
    "        self.bn1 = nn.BatchNorm2d(12)\n",
    "        self.conv2 = nn.Conv2d(in_channels=12, out_channels=12, kernel_size=5, stride=1, padding=0)\n",
    "        self.bn2 = nn.BatchNorm2d(12)\n",
    "        self.pool = nn.MaxPool2d(2,2)\n",
    "        self.conv4 = nn.Conv2d(in_channels=12, out_channels=24, kernel_size=5, stride=1, padding=0)\n",
    "        self.bn4 = nn.BatchNorm2d(24)\n",
    "        self.conv5 = nn.Conv2d(in_channels=24, out_channels=24, kernel_size=5, stride=1, padding=0)\n",
    "        self.bn5 = nn.BatchNorm2d(24)\n",
    "        self.fc1 = nn.Linear(24*50*50, len(classNames)) \n",
    "        #这个地方为什么是24*50*50是因为最终得到的是24个channel，每个channel图片的大小是50*50，这里之所以知道图片大小是50*50是因为self.fc1的上一层输出的图片大小就是这个。\n",
    "    def forward(self, x):\n",
    "        x = F.relu(self.bn1(self.conv1(x)))      \n",
    "        x = F.relu(self.bn2(self.conv2(x)))     \n",
    "        x = self.pool(x)                        \n",
    "        x = F.relu(self.bn4(self.conv4(x)))     \n",
    "        x = F.relu(self.bn5(self.conv5(x)))  \n",
    "        x = self.pool(x)  \n",
    "        #print(\"x_shape\",x.shape) torch.Size([32, 24, 50, 50])                    \n",
    "        x = x.view(-1, 24*50*50)\n",
    "        x = self.fc1(x)\n",
    "\n",
    "        return x\n",
    "\n",
    "device = \"cuda\" if torch.cuda.is_available() else \"cpu\"\n",
    "print(\"Using {} device\".format(device))\n",
    "\n",
    "model = Network_bn().to(device)\n",
    "#如果我们现在是在gpu上训练，这里我们需要将model搬运到gpu上去。\n",
    "model"
   ]
  },
  {
   "cell_type": "markdown",
   "metadata": {},
   "source": [
    "#### nn.CrossEntropyLoss()\n",
    "因为我们目前处理的是一个二分类问题，因此我们的损失函数应该用到交叉熵损失函数，这里只需要注意一点就是input的数据都得是tensor数据。\n",
    "\n",
    "#### note\n",
    "这里要额外提一下，**train_loss = all_loss / num_batches** ，**train_acc = all_acc / all_size** 。"
   ]
  },
  {
   "cell_type": "code",
   "execution_count": 7,
   "metadata": {},
   "outputs": [],
   "source": [
    "loss_fn    = nn.CrossEntropyLoss() # 创建损失函数\n",
    "learn_rate = 1e-4 # 学习率\n",
    "opt        = torch.optim.SGD(model.parameters(),lr=learn_rate)"
   ]
  },
  {
   "cell_type": "code",
   "execution_count": 8,
   "metadata": {},
   "outputs": [],
   "source": [
    "# 训练循环\n",
    "def train(dataloader, model, loss_fn, optimizer):\n",
    "    size = len(dataloader.dataset)  # 训练集的大小，一共60000张图片\n",
    "                                    # 显然通过dataloader.dataset可以获得所有的data,比如input图像的数据维度是[3,224,224]。\n",
    "    num_batches = len(dataloader)   # 批次数目，1875（60000/32）\n",
    "                                    # 显然通过dataloader可以获得batch的data，比如input图像的数据维度是[32,3,224,224]。\n",
    "    train_loss, train_acc = 0, 0  # 初始化训练损失和正确率\n",
    "    \n",
    "    for X, y in dataloader:  # 获取图片及其标签\n",
    "        X, y = X.to(device), y.to(device) #将所有的数据转移到gpu上。\n",
    "        \n",
    "        # 计算预测误差\n",
    "        pred = model(X)          # 网络输出\n",
    "        loss = loss_fn(pred, y)  # 计算网络输出和真实值之间的差距，targets为真实值，计算二者差值即为损失\n",
    "        \n",
    "        # 反向传播\n",
    "        optimizer.zero_grad()  # grad属性归零\n",
    "        loss.backward()        # 反向传播\n",
    "        optimizer.step()       # 每一步自动更新\n",
    "        \n",
    "        # 记录acc与loss\n",
    "        train_acc  += (pred.argmax(1) == y).type(torch.float).sum().item()\n",
    "        #这里要表达的含义是\n",
    "        #1、首先pred大小是[32,2]，因此我们要从列的角度来选出最大的哪个idx，argmax得到的是最大的数的idx，如果等于y那这个等式就为1；\n",
    "        #2、之后要用.type函数将整数变成浮点数，因为在训练过程中只能使用浮点数；\n",
    "        #3、(pred.argmax(1) == y).type(torch.float)这个得到的其实是只包含(0,1)的大小为(32,)的这样一个向量，之后我们求.sum()；\n",
    "        #4、这时候.sum()得到的其实是tensor(xx.)，当我们用.item()的时候会将这个xx.数据取出来。\n",
    "        train_loss += loss.item()\n",
    "            \n",
    "    train_acc  /= size\n",
    "    train_loss /= num_batches\n",
    "\n",
    "    return train_acc, train_loss"
   ]
  },
  {
   "cell_type": "code",
   "execution_count": 9,
   "metadata": {},
   "outputs": [],
   "source": [
    "def test (dataloader, model, loss_fn):\n",
    "    size        = len(dataloader.dataset)  # 测试集的大小，一共10000张图片\n",
    "    num_batches = len(dataloader)          # 批次数目，313（10000/32=312.5，向上取整）\n",
    "    test_loss, test_acc = 0, 0\n",
    "    \n",
    "    # 当不进行训练时，停止梯度更新，节省计算内存消耗\n",
    "    with torch.no_grad():\n",
    "        for imgs, target in dataloader:\n",
    "            imgs, target = imgs.to(device), target.to(device)\n",
    "            \n",
    "            # 计算loss\n",
    "            target_pred = model(imgs)\n",
    "            loss        = loss_fn(target_pred, target)\n",
    "            \n",
    "            test_loss += loss.item()\n",
    "            test_acc  += (target_pred.argmax(1) == target).type(torch.float).sum().item()\n",
    "\n",
    "    test_acc  /= size\n",
    "    test_loss /= num_batches\n",
    "\n",
    "    return test_acc, test_loss"
   ]
  },
  {
   "cell_type": "markdown",
   "metadata": {},
   "source": [
    "#### 格式化文本输出\n",
    "这里是利用格式化文本输出的方式输出内容，首先这里定义了一个template模板。这使用了 Python 的字符串格式化占位符。这个模板指定了输出文本的格式，其中：\n",
    "\n",
    "1、{:2d} 表示一个占位符，用于表示整数，宽度为2位，右对齐。\n",
    "\n",
    "2、{:.1f} 表示一个占位符，用于表示浮点数，保留1位小数，并以百分比形式显示（因为后面有 % 符号）。\n",
    "\n",
    "3、{:.3f} 表示一个占位符，用于表示浮点数，保留3位小数。\n",
    "\n",
    "之后是利用template.format()将print数据显示出来。"
   ]
  },
  {
   "cell_type": "code",
   "execution_count": 11,
   "metadata": {},
   "outputs": [
    {
     "name": "stdout",
     "output_type": "stream",
     "text": [
      "Epoch: 1, Train_acc:65.2%, Train_loss:0.640, Test_acc:67.6%，Test_loss:0.602\n",
      "Epoch: 2, Train_acc:71.5%, Train_loss:0.563, Test_acc:70.6%，Test_loss:0.556\n",
      "Epoch: 3, Train_acc:77.6%, Train_loss:0.510, Test_acc:72.5%，Test_loss:0.523\n",
      "Epoch: 4, Train_acc:77.9%, Train_loss:0.472, Test_acc:75.3%，Test_loss:0.495\n",
      "Epoch: 5, Train_acc:81.1%, Train_loss:0.439, Test_acc:77.4%，Test_loss:0.486\n",
      "Done\n"
     ]
    }
   ],
   "source": [
    "epochs     = 5\n",
    "train_loss = []\n",
    "train_acc  = []\n",
    "test_loss  = []\n",
    "test_acc   = []\n",
    "\n",
    "for epoch in range(epochs):\n",
    "    model.train() #在训练的时候要用model.train()\n",
    "    epoch_train_acc, epoch_train_loss = train(train_dl, model, loss_fn, opt)\n",
    "    \n",
    "    model.eval() #在测试的时候要用model.eval()\n",
    "    epoch_test_acc, epoch_test_loss = test(test_dl, model, loss_fn)\n",
    "    \n",
    "    #下面这四个是记录不同epoch的信息\n",
    "    train_acc.append(epoch_train_acc)\n",
    "    train_loss.append(epoch_train_loss)\n",
    "    test_acc.append(epoch_test_acc)\n",
    "    test_loss.append(epoch_test_loss)\n",
    "    \n",
    "    template = ('Epoch:{:2d}, Train_acc:{:.1f}%, Train_loss:{:.3f}, Test_acc:{:.1f}%，Test_loss:{:.3f}')\n",
    "    print(template.format(epoch+1, epoch_train_acc*100, epoch_train_loss, epoch_test_acc*100, epoch_test_loss))\n",
    "print('Done')"
   ]
  },
  {
   "cell_type": "code",
   "execution_count": null,
   "metadata": {},
   "outputs": [],
   "source": [
    "import matplotlib.pyplot as plt\n",
    "#隐藏警告\n",
    "import warnings\n",
    "warnings.filterwarnings(\"ignore\")               #忽略警告信息\n",
    "plt.rcParams['font.sans-serif']    = ['SimHei'] # 用来正常显示中文标签\n",
    "plt.rcParams['axes.unicode_minus'] = False      # 用来正常显示负号\n",
    "plt.rcParams['figure.dpi']         = 100        #分辨率\n",
    "\n",
    "epochs_range = range(epochs)\n",
    "#创建一个新图形，设置图形的大小为宽 12 单位、高 3 单位。\n",
    "plt.figure(figsize=(12, 3))\n",
    "#将图形分割成 1 行 2 列的子图，并选择左上角（第 1 个）的子图进行绘图。\n",
    "plt.subplot(1, 2, 1)\n",
    "plt.plot(epochs_range, train_acc, label='Training Accuracy')\n",
    "plt.plot(epochs_range, test_acc, label='Test Accuracy')\n",
    "#添加图例和标题。\n",
    "plt.legend(loc='lower right')\n",
    "plt.title('Training and Validation Accuracy')\n",
    "\n",
    "#选择右下角（第 2 个）的子图进行绘图。\n",
    "plt.subplot(1, 2, 2)\n",
    "plt.plot(epochs_range, train_loss, label='Training Loss')\n",
    "plt.plot(epochs_range, test_loss, label='Test Loss')\n",
    "plt.legend(loc='upper right')\n",
    "plt.title('Training and Validation Loss')\n",
    "plt.show()"
   ]
  },
  {
   "cell_type": "markdown",
   "metadata": {},
   "source": [
    "#### torch.squeeze()&torch.unsqueeze()\n",
    "squeeze()是减维度，unsqueeze()是加维度。对于一个x = torch.tensor([1, 2, 3, 4])这样(4,)的数据，当我们用a = x.unsqueeze(1)的时候得到的a的维度是(4,1)，如果是a = x.unsqueeze(0)的时候，得到的a的维度是(1,4)。squeeze()的作用是类似的，就是减维度。\n",
    "\n",
    "除此之外还可以使用a = torch.unsqueeze(x,1) or a = torch.unsqueeze(x,0)效果和上面的一样。torch.squeeze(input_data,dim)的作用也类似，也是减维度。\n",
    "\n",
    "\n"
   ]
  },
  {
   "cell_type": "code",
   "execution_count": 12,
   "metadata": {},
   "outputs": [],
   "source": [
    "from PIL import Image \n",
    "\n",
    "classes = list(total_data.class_to_idx)\n",
    "\n",
    "def predict_one_image(image_path, model, transform, classes):\n",
    "    \n",
    "    test_img = Image.open(image_path).convert('RGB')\n",
    "    #这里我们是利用Image函数打开一张image_path路径下的图片，并将其转换成RGB格式。\n",
    "    #一般在cv领域我们处理的图像都是RGB格式的，但是一般我们input的图像数据都是jpg/png格式的，因此其本身就是以RGB格式编码的。\n",
    "    #所以这里转换或者不转换都可以。\n",
    "    plt.imshow(test_img)  # 展示预测的图片\n",
    "\n",
    "    test_img = transform(test_img)#按照起初图像预处理的方式再预处理一下这张图片。\n",
    "    #print(test_img.shape)\n",
    "    img = test_img.to(device).unsqueeze(0)#因为我们input到model的格式要求是[batch,dim,height,width]，因此这里要增加一维度。\n",
    "    #print(img.shape)\n",
    "    model.eval()\n",
    "    output = model(img)\n",
    "\n",
    "    _,pred = torch.max(output,1)\n",
    "    #torch.max输出两个值，number和idx。\n",
    "    pred_class = classes[pred]\n",
    "    print(f'预测结果是：{pred_class}')"
   ]
  },
  {
   "cell_type": "code",
   "execution_count": 16,
   "metadata": {},
   "outputs": [
    {
     "name": "stdout",
     "output_type": "stream",
     "text": [
      "预测结果是：Others\n"
     ]
    }
   ],
   "source": [
    "# 预测训练集中的某张照片\n",
    "predict_one_image(image_path='./4-data/Monkeypox/M01_01_00.jpg', \n",
    "                  model=model, \n",
    "                  transform=train_transforms, \n",
    "                  classes=classes)"
   ]
  },
  {
   "cell_type": "code",
   "execution_count": 22,
   "metadata": {},
   "outputs": [
    {
     "data": {
      "text/plain": [
       "<All keys matched successfully>"
      ]
     },
     "execution_count": 22,
     "metadata": {},
     "output_type": "execute_result"
    }
   ],
   "source": [
    "# 模型保存\n",
    "PATH = './model.pth'  # 保存的参数文件名\n",
    "torch.save(model.state_dict(), PATH)#保存model的参数\n",
    "\n",
    "# 将参数加载到model当中，map_location表明是加载到哪个设备中\n",
    "model.load_state_dict(torch.load(PATH, map_location=device))"
   ]
  }
 ],
 "metadata": {
  "kernelspec": {
   "display_name": "Python 3 (ipykernel)",
   "language": "python",
   "name": "python3"
  },
  "language_info": {
   "codemirror_mode": {
    "name": "ipython",
    "version": 3
   },
   "file_extension": ".py",
   "mimetype": "text/x-python",
   "name": "python",
   "nbconvert_exporter": "python",
   "pygments_lexer": "ipython3",
   "version": "3.8.11"
  }
 },
 "nbformat": 4,
 "nbformat_minor": 2
}
